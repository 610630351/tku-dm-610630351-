{
 "cells": [
  {
   "cell_type": "code",
   "execution_count": 1,
   "id": "7e997f5a",
   "metadata": {},
   "outputs": [
    {
     "name": "stdout",
     "output_type": "stream",
     "text": [
      "Requirement already satisfied: Numpy in c:\\users\\user\\anaconda3\\lib\\site-packages (1.21.5)\n",
      "Note: you may need to restart the kernel to use updated packages.\n"
     ]
    }
   ],
   "source": [
    "pip install Numpy"
   ]
  },
  {
   "cell_type": "code",
   "execution_count": 2,
   "id": "ac738ce6",
   "metadata": {},
   "outputs": [],
   "source": [
    "import numpy as np #編寫numpy成np"
   ]
  },
  {
   "cell_type": "code",
   "execution_count": 3,
   "id": "efb3394b",
   "metadata": {},
   "outputs": [],
   "source": [
    "np1 = np.array([1,2,3,4])#array,建立一個排序表\n"
   ]
  },
  {
   "cell_type": "code",
   "execution_count": 4,
   "id": "cea21d6c",
   "metadata": {},
   "outputs": [],
   "source": [
    "np2 =np.array((5,6,7,8))\n"
   ]
  },
  {
   "cell_type": "code",
   "execution_count": 5,
   "id": "355ee940",
   "metadata": {},
   "outputs": [
    {
     "name": "stdout",
     "output_type": "stream",
     "text": [
      "[1 2 3 4]\n",
      "[5 6 7 8]\n",
      "<class 'numpy.ndarray'> <class 'numpy.ndarray'>\n"
     ]
    }
   ],
   "source": [
    "print(np1)\n",
    "print(np2)\n",
    "print(type(np1),type(np2))"
   ]
  },
  {
   "cell_type": "code",
   "execution_count": 6,
   "id": "54a3bf6e",
   "metadata": {},
   "outputs": [
    {
     "name": "stdout",
     "output_type": "stream",
     "text": [
      "[ 0  2  4  6  8 10 12 14 16 18 20 22 24 26 28 30]\n"
     ]
    }
   ],
   "source": [
    "np3 =np.arange(0,31,2)\n",
    "print(np3)"
   ]
  },
  {
   "cell_type": "code",
   "execution_count": 7,
   "id": "9a1951b7",
   "metadata": {},
   "outputs": [
    {
     "name": "stdout",
     "output_type": "stream",
     "text": [
      "[ 1.  2.  3.  4.  5.  6.  7.  8.  9. 10.]\n"
     ]
    }
   ],
   "source": [
    "np4 =np.linspace(1,10,10)\n",
    "print(np4)"
   ]
  },
  {
   "cell_type": "code",
   "execution_count": 8,
   "id": "77262434",
   "metadata": {},
   "outputs": [
    {
     "name": "stdout",
     "output_type": "stream",
     "text": [
      "[0. 0. 0. 0. 0.]\n"
     ]
    }
   ],
   "source": [
    "np5 = np.zeros((5,))\n",
    "print(np5)"
   ]
  },
  {
   "cell_type": "code",
   "execution_count": 9,
   "id": "fa822ae6",
   "metadata": {},
   "outputs": [
    {
     "name": "stdout",
     "output_type": "stream",
     "text": [
      "[1. 1. 1. 1. 1.]\n"
     ]
    }
   ],
   "source": [
    "np6 = np.ones((5,))\n",
    "print(np6)"
   ]
  },
  {
   "cell_type": "code",
   "execution_count": 10,
   "id": "9541aa54",
   "metadata": {},
   "outputs": [
    {
     "name": "stdout",
     "output_type": "stream",
     "text": [
      "[[1. 1.]\n",
      " [1. 1.]\n",
      " [1. 1.]\n",
      " [1. 1.]\n",
      " [1. 1.]]\n"
     ]
    }
   ],
   "source": [
    "np7=np.ones((5,2))\n",
    "print(np7)"
   ]
  },
  {
   "cell_type": "code",
   "execution_count": 11,
   "id": "aeadfd05",
   "metadata": {},
   "outputs": [],
   "source": [
    "listdate =[[1,2,3,4,5],[6,7,8,9,10]]\n"
   ]
  },
  {
   "cell_type": "code",
   "execution_count": 12,
   "id": "f129639b",
   "metadata": {},
   "outputs": [],
   "source": [
    "np8=np.array(listdate)\n"
   ]
  },
  {
   "cell_type": "code",
   "execution_count": 13,
   "id": "ea78a300",
   "metadata": {},
   "outputs": [
    {
     "data": {
      "text/plain": [
       "array([[ 1,  2,  3,  4,  5],\n",
       "       [ 6,  7,  8,  9, 10]])"
      ]
     },
     "execution_count": 13,
     "metadata": {},
     "output_type": "execute_result"
    }
   ],
   "source": [
    "np8\n"
   ]
  },
  {
   "cell_type": "code",
   "execution_count": 14,
   "id": "d735e6ee",
   "metadata": {},
   "outputs": [
    {
     "name": "stdout",
     "output_type": "stream",
     "text": [
      "[[ 1  2  3  4  5]\n",
      " [ 6  7  8  9 10]]\n"
     ]
    }
   ],
   "source": [
    "print(np8)\n"
   ]
  },
  {
   "cell_type": "code",
   "execution_count": 15,
   "id": "6e6c14f3",
   "metadata": {},
   "outputs": [
    {
     "name": "stdout",
     "output_type": "stream",
     "text": [
      "維度 2\n",
      "形狀 (2, 5)\n",
      "數量 10\n"
     ]
    }
   ],
   "source": [
    "print('維度',np8.ndim)\n",
    "print('形狀',np8.shape)\n",
    "print('數量',np8.size)\n"
   ]
  },
  {
   "cell_type": "code",
   "execution_count": 16,
   "id": "7f253567",
   "metadata": {},
   "outputs": [
    {
     "data": {
      "text/plain": [
       "array([ 1,  2,  3,  4,  5,  6,  7,  8,  9, 10, 11, 12, 13, 14, 15, 16, 17,\n",
       "       18, 19, 20])"
      ]
     },
     "execution_count": 16,
     "metadata": {},
     "output_type": "execute_result"
    }
   ],
   "source": [
    "np9 = np.arange(1,21)\n",
    "np9"
   ]
  },
  {
   "cell_type": "code",
   "execution_count": 18,
   "id": "a3b4e246",
   "metadata": {},
   "outputs": [
    {
     "name": "stdout",
     "output_type": "stream",
     "text": [
      "[[ 1  2  3  4  5]\n",
      " [ 6  7  8  9 10]\n",
      " [11 12 13 14 15]\n",
      " [16 17 18 19 20]]\n"
     ]
    },
    {
     "data": {
      "text/plain": [
       "array([[ 1,  2,  3,  4,  5],\n",
       "       [ 6,  7,  8,  9, 10],\n",
       "       [11, 12, 13, 14, 15],\n",
       "       [16, 17, 18, 19, 20]])"
      ]
     },
     "execution_count": 18,
     "metadata": {},
     "output_type": "execute_result"
    }
   ],
   "source": [
    "np10=np9.reshape(4,5)\n",
    "print(np10)\n",
    "np10"
   ]
  },
  {
   "cell_type": "code",
   "execution_count": 19,
   "id": "6af3d642",
   "metadata": {},
   "outputs": [
    {
     "name": "stdout",
     "output_type": "stream",
     "text": [
      "[[ 1  2  3  4]\n",
      " [ 5  6  7  8]\n",
      " [ 9 10 11 12]\n",
      " [13 14 15 16]\n",
      " [17 18 19 20]]\n"
     ]
    }
   ],
   "source": [
    "np10a = np9.reshape(5,4)\n",
    "np10a\n",
    "print(np10a)\n"
   ]
  },
  {
   "cell_type": "code",
   "execution_count": 20,
   "id": "01fd8584",
   "metadata": {},
   "outputs": [
    {
     "data": {
      "text/plain": [
       "array([[ 1,  2,  3,  4],\n",
       "       [ 5,  6,  7,  8],\n",
       "       [ 9, 10, 11, 12],\n",
       "       [13, 14, 15, 16],\n",
       "       [17, 18, 19, 20]])"
      ]
     },
     "execution_count": 20,
     "metadata": {},
     "output_type": "execute_result"
    }
   ],
   "source": [
    "np11=np.arange(1,21).reshape(5,4)\n",
    "np11\n"
   ]
  },
  {
   "cell_type": "code",
   "execution_count": 23,
   "id": "1db06605",
   "metadata": {},
   "outputs": [
    {
     "data": {
      "text/plain": [
       "3"
      ]
     },
     "execution_count": 23,
     "metadata": {},
     "output_type": "execute_result"
    }
   ],
   "source": [
    "np11[0,2]\n"
   ]
  },
  {
   "cell_type": "code",
   "execution_count": 22,
   "id": "ece87ad9",
   "metadata": {},
   "outputs": [
    {
     "data": {
      "text/plain": [
       "4"
      ]
     },
     "execution_count": 22,
     "metadata": {},
     "output_type": "execute_result"
    }
   ],
   "source": [
    "np11[0,3]\n"
   ]
  },
  {
   "cell_type": "code",
   "execution_count": 24,
   "id": "35a150ae",
   "metadata": {},
   "outputs": [
    {
     "name": "stdout",
     "output_type": "stream",
     "text": [
      "[ 7 11]\n",
      "[[ 6  7]\n",
      " [10 11]]\n",
      "[[ 1  3]\n",
      " [ 9 11]\n",
      " [17 19]]\n",
      "[ 3  7 11 15 19]\n",
      "[5 6 7 8]\n",
      "[[ 1  2  3  4]\n",
      " [ 5  6  7  8]\n",
      " [ 9 10 11 12]\n",
      " [13 14 15 16]\n",
      " [17 18 19 20]]\n"
     ]
    }
   ],
   "source": [
    "np11[1,2]\n",
    "print(np11[1:3,2])\n",
    "print(np11[1:3,1:3])\n",
    "print(np11[::2,::2])\n",
    "print(np11[:,2])\n",
    "print(np11[1,:])\n",
    "print(np11[:,:])"
   ]
  },
  {
   "cell_type": "code",
   "execution_count": 25,
   "id": "9450ba55",
   "metadata": {},
   "outputs": [
    {
     "name": "stdout",
     "output_type": "stream",
     "text": [
      "產生2x3,1~0的隨機浮點數/n\n",
      "產生2x3,常態分布浮點數/n\n",
      "產生0~4,但(不含5)整數/n\n",
      "產生2~4,(不含5)的5個整數/n\n",
      "產生3個,0~1之間的隨機浮點數/n\n"
     ]
    },
    {
     "data": {
      "text/plain": [
       "array([0.29817687, 0.06091184, 0.01249935])"
      ]
     },
     "execution_count": 25,
     "metadata": {},
     "output_type": "execute_result"
    }
   ],
   "source": [
    "print('產生2x3,1~0的隨機浮點數/n')\n",
    "np.random.rand(2,3)\n",
    "print('產生2x3,常態分布浮點數/n')\n",
    "np.random.randn(2,3)\n",
    "print('產生0~4,但(不含5)整數/n')\n",
    "np.random.randint(5)\n",
    "print('產生2~4,(不含5)的5個整數/n')\n",
    "np.random.randint(2,5,[5])\n",
    "print('產生3個,0~1之間的隨機浮點數/n')\n",
    "np.random.random(3),'/n',\n",
    "np.random.random_sample(3),'/n',\n",
    "np.random.sample(3)"
   ]
  },
  {
   "cell_type": "code",
   "execution_count": 3,
   "id": "24405019",
   "metadata": {},
   "outputs": [
    {
     "ename": "NameError",
     "evalue": "name 'np' is not defined",
     "output_type": "error",
     "traceback": [
      "\u001b[1;31m---------------------------------------------------------------------------\u001b[0m",
      "\u001b[1;31mNameError\u001b[0m                                 Traceback (most recent call last)",
      "Input \u001b[1;32mIn [3]\u001b[0m, in \u001b[0;36m<cell line: 1>\u001b[1;34m()\u001b[0m\n\u001b[1;32m----> 1\u001b[0m np12 \u001b[38;5;241m=\u001b[39m\u001b[43mnp\u001b[49m\u001b[38;5;241m.\u001b[39mgenfromtxt(\u001b[38;5;124m'\u001b[39m\u001b[38;5;124mscores.csv\u001b[39m\u001b[38;5;124m'\u001b[39m,delimiter\u001b[38;5;241m=\u001b[39m\u001b[38;5;124m'\u001b[39m\u001b[38;5;124m,\u001b[39m\u001b[38;5;124m'\u001b[39m,skip_header\u001b[38;5;241m=\u001b[39m\u001b[38;5;241m1\u001b[39m)\n\u001b[0;32m      2\u001b[0m \u001b[38;5;28mprint\u001b[39m(np12)\n",
      "\u001b[1;31mNameError\u001b[0m: name 'np' is not defined"
     ]
    }
   ],
   "source": [
    "np12 =np.genfromtxt('scores.csv',delimiter=',',skip_header=1)\n",
    "print(np12)\n"
   ]
  },
  {
   "cell_type": "code",
   "execution_count": null,
   "id": "b6b302dd",
   "metadata": {},
   "outputs": [],
   "source": []
  }
 ],
 "metadata": {
  "kernelspec": {
   "display_name": "Python 3 (ipykernel)",
   "language": "python",
   "name": "python3"
  },
  "language_info": {
   "codemirror_mode": {
    "name": "ipython",
    "version": 3
   },
   "file_extension": ".py",
   "mimetype": "text/x-python",
   "name": "python",
   "nbconvert_exporter": "python",
   "pygments_lexer": "ipython3",
   "version": "3.9.12"
  }
 },
 "nbformat": 4,
 "nbformat_minor": 5
}
